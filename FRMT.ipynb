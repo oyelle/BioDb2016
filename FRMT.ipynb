{
 "cells": [
  {
   "cell_type": "markdown",
   "metadata": {},
   "source": [
    "# FRMT Data Formats"
   ]
  },
  {
   "cell_type": "markdown",
   "metadata": {},
   "source": [
    "**Given:** A collection of n (n≤10) GenBank entry IDs.\n",
    "    \n",
    "   **Sample Dataset**\n",
    "\n",
    "    FJ817486 JX069768 JX469983\n",
    "\n",
    "**Return:** The shortest of the strings associated with the IDs in FASTA format.\n",
    "\n"
   ]
  },
  {
   "cell_type": "code",
   "execution_count": 50,
   "metadata": {
    "collapsed": false
   },
   "outputs": [
    {
     "name": "stdout",
     "output_type": "stream",
     "text": [
      ">gi|406507554|gb|JQ011270.1| Clunio marinus period (per) mRNA, partial cds\n",
      "CCGCCTTTTTCTGTCAGTCTTACAACCTTACAAAGCACACTAACAACGTCACAAGCAACA\n",
      "GAATTCCCTGCATCGAATTTATTCCCAACAGTTTATTATCTTCCACAAACCATTCCACAA\n",
      "TGTATGCAAAGCGTAATCTATCAACCCTTAATATATTCACACCCATCGACTTTCTATCAA\n",
      "AYGAACTTCCAAGCCACTCAATCAAGTCGTAATGAATTGAATTACAACACATCCTATCAG\n",
      "TTTGTAAAGAATGCAACCGTTCCGGCACTGCAAACTCCTGCTGACTCTGATTCGATTGTG\n",
      "CAAAGTTTATCTTTAAAACGTCCACCGTCACAAGCAACTTCAGTCAAAGCTGATATGGGG\n",
      "TCAACATCGGCATCTGTTAACAGGGCGCTTTCAGAAACTTCAAGAAAAGGTGTGTTGGCT\n",
      "GATTCACCACTCCCGCATGATGGTCCAAGTGGATTAAATATTAATGACAATGAGGCAAGT\n",
      "GGATTGATTGKAACAAGCGAGGATG\n",
      "\n"
     ]
    }
   ],
   "source": [
    "from Bio import Entrez\n",
    "from Bio import SeqIO\n",
    "Entrez.email = \"thesignupdumpemail1@gmx.de\"\n",
    "all_ids = open('rosalind_frmt.txt').read().strip().split()\n",
    "\n",
    "handle = Entrez.efetch(db = \"nucleotide\", id = all_ids, rettype = \"fasta\")\n",
    "records = list (SeqIO.parse(handle, \"fasta\")) #we get the list of SeqIO objects in FASTA format\n",
    "\n",
    "lengths = [len(x.seq) for x in records]\n",
    "min_index = lengths.index(min(lengths))\n",
    "print(records[min_index].format('fasta'))\n",
    "\n",
    "#print(min(records, key = lambda x: len(x.seq)).format('fasta'))"
   ]
  }
 ],
 "metadata": {
  "anaconda-cloud": {},
  "kernelspec": {
   "display_name": "Python [Root]",
   "language": "python",
   "name": "Python [Root]"
  },
  "language_info": {
   "codemirror_mode": {
    "name": "ipython",
    "version": 3
   },
   "file_extension": ".py",
   "mimetype": "text/x-python",
   "name": "python",
   "nbconvert_exporter": "python",
   "pygments_lexer": "ipython3",
   "version": "3.5.2"
  }
 },
 "nbformat": 4,
 "nbformat_minor": 0
}
