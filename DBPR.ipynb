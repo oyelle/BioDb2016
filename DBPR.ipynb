{
 "cells": [
  {
   "cell_type": "markdown",
   "metadata": {},
   "source": [
    "# DBPR Introduction to Protein Databases\n",
    "\n",
    "Given: The UniProt ID of a protein.\n",
    "\n",
    "Return: A list of biological processes in which the protein is involved (biological processes are found in a subsection of the protein's \"Gene Ontology\" (GO) section)"
   ]
  },
  {
   "cell_type": "code",
   "execution_count": 21,
   "metadata": {
    "collapsed": false
   },
   "outputs": [
    {
     "name": "stdout",
     "output_type": "stream",
     "text": [
      "fever generation\n",
      "immune response\n",
      "positive regulation of cell division\n"
     ]
    }
   ],
   "source": [
    "#assumes I downloaded the txt file from uniprot given http://www.uniprot.org/uniprot/uniprot_id.txt\n",
    "with open('P79162.txt', 'r') as fin:\n",
    "    stringiwant= \" P:\"  #i want to get the text after this symbol, space before P: was added to ensure it wasn't part of word\n",
    "    for line in fin:\n",
    "        if stringiwant in line:\n",
    "            tempstring=line.strip()\n",
    "            i=tempstring.find(stringiwant)    #give me the index of the space before \"P:\"\n",
    "            end=tempstring.find(\";\",i)        #give me the index of ; and start searching from i\n",
    "            print(tempstring[i+3:end])        #print the phrase between \" P:\" and \";\"\n",
    "            "
   ]
  }
 ],
 "metadata": {
  "kernelspec": {
   "display_name": "Python [Root]",
   "language": "python",
   "name": "Python [Root]"
  },
  "language_info": {
   "codemirror_mode": {
    "name": "ipython",
    "version": 3
   },
   "file_extension": ".py",
   "mimetype": "text/x-python",
   "name": "python",
   "nbconvert_exporter": "python",
   "pygments_lexer": "ipython3",
   "version": "3.5.2"
  }
 },
 "nbformat": 4,
 "nbformat_minor": 0
}
