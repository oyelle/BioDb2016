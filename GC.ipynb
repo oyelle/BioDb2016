{
 "cells": [
  {
   "cell_type": "code",
   "execution_count": 1,
   "metadata": {
    "collapsed": false
   },
   "outputs": [
    {
     "data": {
      "text/plain": [
       "{'Rosalind_0808': 'CCACCCTCGTGGTATGGCTAGGCATTCAGGAACCGGAGAACGCTTCAGACCAGCCCGGACTGGGAACCTGCGGGCAGTAGGTGGAAT',\n",
       " 'Rosalind_5959': 'CCATCGGTAGCGCATCCTTAGTCCAATTAAGTCCCTATCCAGGCGCTCCGCCGAAGGTCTATATCCATTTGTCAGCAGACACGC',\n",
       " 'Rosalind_6404': 'CCTGCGGAAGATCGGCACTAGAATAGCCAGAACCGTTTCTCTGAGGCTTCCGGCCTTCCCTCCCACTAATAATTCTGAGG'}"
      ]
     },
     "execution_count": 1,
     "metadata": {},
     "output_type": "execute_result"
    }
   ],
   "source": [
    "fin=open('rosalind_gc.txt')\n",
    "my_dict={}\n",
    "for line in fin:\n",
    "    currentline = line.strip()\n",
    "    if currentline.startswith('>'):\n",
    "        currentHeader = currentline[1:]   #removes the \">\"\n",
    "        my_dict[currentHeader] = \"\"\n",
    "    else:\n",
    "        my_dict[currentHeader] += currentline\n",
    "my_dict"
   ]
  },
  {
   "cell_type": "code",
   "execution_count": 2,
   "metadata": {
    "collapsed": false
   },
   "outputs": [
    {
     "data": {
      "text/plain": [
       "{'Rosalind_0808': 60.91954022988506,\n",
       " 'Rosalind_5959': 53.57142857142857,\n",
       " 'Rosalind_6404': 53.75}"
      ]
     },
     "execution_count": 2,
     "metadata": {},
     "output_type": "execute_result"
    }
   ],
   "source": [
    "for key in my_dict:\n",
    "    total_nuc=len(my_dict[key])\n",
    "    currentseq=list(my_dict[key])\n",
    "    c_count=currentseq.count(\"C\")\n",
    "    g_count=currentseq.count(\"G\")\n",
    "    gc_content=(c_count+g_count)/total_nuc*100\n",
    "    my_dict[key]=gc_content\n",
    "my_dict"
   ]
  },
  {
   "cell_type": "code",
   "execution_count": 3,
   "metadata": {
    "collapsed": false
   },
   "outputs": [
    {
     "name": "stdout",
     "output_type": "stream",
     "text": [
      "Rosalind_0808\n",
      "60.91954022988506\n"
     ]
    }
   ],
   "source": [
    "maxheader=max(my_dict, key=my_dict.get)\n",
    "maxpercent=my_dict[maxheader]\n",
    "print(maxheader)\n",
    "print(maxpercent)"
   ]
  },
  {
   "cell_type": "code",
   "execution_count": null,
   "metadata": {
    "collapsed": true
   },
   "outputs": [],
   "source": []
  }
 ],
 "metadata": {
  "anaconda-cloud": {},
  "kernelspec": {
   "display_name": "Python [Root]",
   "language": "python",
   "name": "Python [Root]"
  },
  "language_info": {
   "codemirror_mode": {
    "name": "ipython",
    "version": 3
   },
   "file_extension": ".py",
   "mimetype": "text/x-python",
   "name": "python",
   "nbconvert_exporter": "python",
   "pygments_lexer": "ipython3",
   "version": "3.5.2"
  }
 },
 "nbformat": 4,
 "nbformat_minor": 0
}
