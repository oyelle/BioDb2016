{
 "cells": [
  {
   "cell_type": "markdown",
   "metadata": {},
   "source": [
    "# MRNA Inferring mRNA from protein"
   ]
  },
  {
   "cell_type": "markdown",
   "metadata": {},
   "source": [
    "**Given:** A protein string of length at most 1000 aa.\n",
    "\n",
    "**Return:** The total number of different RNA strings from which the protein could have been translated, modulo 1,000,000. (Don't neglect the importance of the stop codon in protein translation.)"
   ]
  },
  {
   "cell_type": "code",
   "execution_count": 44,
   "metadata": {
    "collapsed": false
   },
   "outputs": [
    {
     "data": {
      "text/plain": [
       "{'A': 4,\n",
       " 'C': 2,\n",
       " 'D': 2,\n",
       " 'E': 2,\n",
       " 'F': 2,\n",
       " 'G': 4,\n",
       " 'H': 2,\n",
       " 'I': 3,\n",
       " 'K': 2,\n",
       " 'L': 6,\n",
       " 'M': 1,\n",
       " 'N': 2,\n",
       " 'P': 4,\n",
       " 'Q': 2,\n",
       " 'R': 6,\n",
       " 'S': 6,\n",
       " 'Stop': 3,\n",
       " 'T': 4,\n",
       " 'V': 4,\n",
       " 'W': 1,\n",
       " 'Y': 2}"
      ]
     },
     "execution_count": 44,
     "metadata": {},
     "output_type": "execute_result"
    }
   ],
   "source": [
    "#below reused text from PROT (makes a dict out of codons)\n",
    "def get_freq():\n",
    "    f = open(\"codons.txt\") \n",
    "    #make a dictionary of codons\n",
    "    codon_dict={}\n",
    "    for line in f:\n",
    "        temp=line.strip() #takes current line and puts it into temp string\n",
    "        temp2=[x.strip() for x in temp.split()] #split the temp string into a list, remove white spaces\n",
    "        #print(temp2)\n",
    "        for i in range (len(temp2)-1):\n",
    "            if(i%2==0):\n",
    "                codon_dict[temp2[i]]=temp2[i+1]\n",
    "    \n",
    "    #make a dictionary of frequencies\n",
    "    freq={}\n",
    "    for key in codon_dict:\n",
    "        value = codon_dict[key]\n",
    "        if value not in freq:\n",
    "            freq[value]=1\n",
    "        else:\n",
    "            freq[value]+=1\n",
    "    \n",
    "    return freq\n",
    "get_freq()"
   ]
  },
  {
   "cell_type": "code",
   "execution_count": 45,
   "metadata": {
    "collapsed": true
   },
   "outputs": [],
   "source": [
    "def rnatotal(aastring):\n",
    "    freq=get_freq()\n",
    "    total=freq['Stop']\n",
    "    \n",
    "    for aa in aastring:\n",
    "        total*=freq[aa]\n",
    "    \n",
    "    return total%1000000"
   ]
  },
  {
   "cell_type": "code",
   "execution_count": 46,
   "metadata": {
    "collapsed": false
   },
   "outputs": [
    {
     "data": {
      "text/plain": [
       "12"
      ]
     },
     "execution_count": 46,
     "metadata": {},
     "output_type": "execute_result"
    }
   ],
   "source": [
    "rnatotal(\"MA\")"
   ]
  },
  {
   "cell_type": "code",
   "execution_count": 47,
   "metadata": {
    "collapsed": false
   },
   "outputs": [
    {
     "data": {
      "text/plain": [
       "328896"
      ]
     },
     "execution_count": 47,
     "metadata": {},
     "output_type": "execute_result"
    }
   ],
   "source": [
    "input = open(\"rosalind_mrna.txt\")\n",
    "for line in input:\n",
    "    aa=line.strip()\n",
    "rnatotal(aa)"
   ]
  }
 ],
 "metadata": {
  "anaconda-cloud": {},
  "kernelspec": {
   "display_name": "Python [Root]",
   "language": "python",
   "name": "Python [Root]"
  },
  "language_info": {
   "codemirror_mode": {
    "name": "ipython",
    "version": 3
   },
   "file_extension": ".py",
   "mimetype": "text/x-python",
   "name": "python",
   "nbconvert_exporter": "python",
   "pygments_lexer": "ipython3",
   "version": "3.5.2"
  }
 },
 "nbformat": 4,
 "nbformat_minor": 0
}
