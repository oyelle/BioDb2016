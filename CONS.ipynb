{
 "cells": [
  {
   "cell_type": "markdown",
   "metadata": {},
   "source": [
    "# CONS Consensus and Profile"
   ]
  },
  {
   "cell_type": "markdown",
   "metadata": {},
   "source": [
    "**Given:** A collection of at most 10 DNA strings of equal length (at most 1 kbp) in FASTA format.\n",
    "\n",
    "**Return:** A consensus string and profile matrix for the collection. (If several possible consensus strings exist, then you may return any one of them.)\n",
    "\n",
    "**Sample Dataset**\n",
    "\n",
    ">Rosalind_1\n",
    "ATCCAGCT\n",
    "\n",
    ">Rosalind_2\n",
    "GGGCAACT\n",
    "\n",
    ">Rosalind_3\n",
    "ATGGATCT\n",
    "\n",
    "\n",
    "**Sample Output**\n",
    "\n",
    "ATG\n",
    "\n",
    "A: 5 1 0 \n",
    "\n",
    "C: 0 0 1 \n",
    "\n",
    "G: 1 1 6 \n",
    "\n",
    "T: 1 5 0 \n"
   ]
  },
  {
   "cell_type": "code",
   "execution_count": 3,
   "metadata": {
    "collapsed": false
   },
   "outputs": [],
   "source": [
    "fin=open('rosalind_cons.txt')\n",
    "my_dict={}\n",
    "for line in fin: #used my code in GC.ipynb\n",
    "    currentline = line.strip()\n",
    "    if currentline.startswith('>'):\n",
    "        currentHeader = currentline[1:]   #removes the \">\"\n",
    "        my_dict[currentHeader] = \"\"\n",
    "    else:\n",
    "        my_dict[currentHeader] += currentline\n",
    "\n",
    "my_list=[]\n",
    "for value in my_dict.values():\n",
    "    my_list.append(value) #makes a list out of every dict value\n",
    "#my_list"
   ]
  },
  {
   "cell_type": "code",
   "execution_count": 7,
   "metadata": {
    "collapsed": false
   },
   "outputs": [
    {
     "name": "stdout",
     "output_type": "stream",
     "text": [
      "ATGATGG\n",
      "A: 4 3 0 4 2 2 4\n",
      "C: 2 1 3 4 1 3 1\n",
      "G: 3 2 4 1 3 3 5\n",
      "T: 1 4 3 1 4 2 0\n"
     ]
    }
   ],
   "source": [
    "listmax=[]\n",
    "listdict=[]\n",
    "maindict={}\n",
    "#for j in range (len(my_list[0])): #this is the real code\n",
    "\n",
    "for j in range(7):  #this is just for testing how the output looks\n",
    "    h = {\"A\":0, \"C\":0, \"G\":0, \"T\":0} #otherwise those with values of 0 would not be in dict\n",
    "\n",
    "    for i in range(len(my_list)):\n",
    "        #print(i,j)\n",
    "        currentletter=my_list[i][j]\n",
    "        h[currentletter] = h.get(currentletter)+1\n",
    "\n",
    "    for key in h:   #i want to put values in h into main dict\n",
    "        if key in maindict:\n",
    "        \n",
    "            maindict[key].append(str(h[key])) #cast into str so i can use join in last line\n",
    "        else:\n",
    "        \n",
    "            maindict[key] = [str(h[key])]\n",
    "\n",
    "    listmax.append(max(h, key=h.get))   #takes one of the keys that contain the highest value\n",
    "    listdict.append(h)                  #puts that key into a list\n",
    "    consensus=''.join(listmax)          #into a string\n",
    "print(consensus)\n",
    "#maindict\n",
    "for key in sorted(maindict):\n",
    "    print(key+\":\", \" \".join(maindict[key]))"
   ]
  },
  {
   "cell_type": "code",
   "execution_count": null,
   "metadata": {
    "collapsed": true
   },
   "outputs": [],
   "source": []
  },
  {
   "cell_type": "code",
   "execution_count": null,
   "metadata": {
    "collapsed": true
   },
   "outputs": [],
   "source": []
  }
 ],
 "metadata": {
  "anaconda-cloud": {},
  "kernelspec": {
   "display_name": "Python [Root]",
   "language": "python",
   "name": "Python [Root]"
  },
  "language_info": {
   "codemirror_mode": {
    "name": "ipython",
    "version": 3
   },
   "file_extension": ".py",
   "mimetype": "text/x-python",
   "name": "python",
   "nbconvert_exporter": "python",
   "pygments_lexer": "ipython3",
   "version": "3.5.2"
  }
 },
 "nbformat": 4,
 "nbformat_minor": 0
}
