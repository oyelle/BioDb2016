{
 "cells": [
  {
   "cell_type": "code",
   "execution_count": 1,
   "metadata": {
    "collapsed": false
   },
   "outputs": [
    {
     "data": {
      "text/plain": [
       "'TAGACGGTTAGAGAGGAAACCCTAATGAAGATATGCCGTAGACAGATATGCCACTTGGAGCGGTTGCAAAATCAAGGTTAATACTGATGCATGGGTTTTCGCTTTCTTATTACTCCTGTGTGTCATCCACTTGCAGTGCAACCAGGCCGCATCAAAGACTTAGGGGTTGTGGGGGGACCTATGAATTTTCCCAGCCAGCACACCGACACATAGTCTCTTGGCGTCTATGGTAACGTTCAATATACCTAATCCTAAGATGTAGTACCGTTGAGAACACGACCAAGACACTTAAGGTCGCAAGGTACTACCACACTCCAATTCCGAGATGTTGTCGCCCTCTCAACATCGTCTGAACCTCTTACTAGAGAGGTACGTGAAATTGAGAGAGGTATGACTGTGTATAAGACCCGTCTACCTTGTGAGGCTTCAGGGCACCATGAGTGAATTGCACGACAAGACGGGTGTTGTCGACACAGAGCTCTTACTAGGAGGATTGACCGATACCTTAATGAGGATGCCCTGTCCCATTCTGCGATCAGGCTACTCAAAAAAGAGGTTCGCTTGACCAAAAAAGTCTTCGGAGCATGAAAGACCAAGCCGAGATCCCCACGGGCGGAGCCGCACGCTTCATGAATGAGCGCTAACATATCTCGAGTGGGGCAATCAATTAGTGCCTATGTACTGCATTTAATACGGGACAGCCTTACGGGCTATGCGCATGTTCTTACCGGTACAATCAGGTGTTCATGCATGCTCGTAGACGCCGTGTATATACACCAGCGACCTCAATTCCCTGATCGCGGGCTGCCGCAGTGGCGTACGAAAGATT'"
      ]
     },
     "execution_count": 1,
     "metadata": {},
     "output_type": "execute_result"
    }
   ],
   "source": [
    "fin=open('rosalind_revc.txt')\n",
    "for line in fin:\n",
    "    seq=line.strip()\n",
    "reverseseq=seq[::-1]\n",
    "#print(reverseseq)\n",
    "\n",
    "complementpairs = {'A': 'T', 'C': 'G', 'G': 'C', 'T': 'A'}\n",
    "\n",
    "reversecomp=[]\n",
    "for letter in reverseseq:\n",
    "    comp=complementpairs[letter]\n",
    "    reversecomp.append(comp)\n",
    "''.join(reversecomp)"
   ]
  },
  {
   "cell_type": "code",
   "execution_count": null,
   "metadata": {
    "collapsed": true
   },
   "outputs": [],
   "source": []
  }
 ],
 "metadata": {
  "anaconda-cloud": {},
  "kernelspec": {
   "display_name": "Python [Root]",
   "language": "python",
   "name": "Python [Root]"
  },
  "language_info": {
   "codemirror_mode": {
    "name": "ipython",
    "version": 3
   },
   "file_extension": ".py",
   "mimetype": "text/x-python",
   "name": "python",
   "nbconvert_exporter": "python",
   "pygments_lexer": "ipython3",
   "version": "3.5.2"
  }
 },
 "nbformat": 4,
 "nbformat_minor": 0
}
