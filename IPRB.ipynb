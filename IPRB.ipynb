{
 "cells": [
  {
   "cell_type": "markdown",
   "metadata": {
    "collapsed": true
   },
   "source": [
    "# IPRB Mendel's First Law"
   ]
  },
  {
   "cell_type": "markdown",
   "metadata": {},
   "source": [
    "Given: Three positive integers k, m, and n, representing a population containing k+m+n organisms: k individuals are homozygous dominant for a factor, m are heterozygous, and n are homozygous recessive.\n",
    "\n",
    "Return: The probability that two randomly selected mating organisms will produce an individual possessing a dominant allele (and thus displaying the dominant phenotype). Assume that any two organisms can mate."
   ]
  },
  {
   "cell_type": "code",
   "execution_count": 1,
   "metadata": {
    "collapsed": false
   },
   "outputs": [
    {
     "data": {
      "text/plain": [
       "0.8127946127946128"
      ]
     },
     "execution_count": 1,
     "metadata": {},
     "output_type": "execute_result"
    }
   ],
   "source": [
    "fin = open('rosalind_iprb.txt')\n",
    "for line in fin:\n",
    "    data=line.strip()\n",
    "\n",
    "k, m, n = [int(number) for number in data.split()]\n",
    "\n",
    "#entire population p and ratio of individuals that are homogenous dominant k, heterogenous m, and homogenous recessive n for a factor\n",
    "p = k + m + n\n",
    "homo_dom = k / p\n",
    "hetero = m / p\n",
    "homo_rec = n / p\n",
    "\n",
    "'''\n",
    "To have a child with one dominant allele A, there are 9 scenarios (parent1 - parent2):\n",
    "scen1: AA-AA (100%)\n",
    "scen2: AA-Aa(100%)\n",
    "scen3: AA-aa(100%)\n",
    "scen4: Aa-Aa(75%)\n",
    "scen5: Aa-aa(50%)\n",
    "scen6-9: the \"reverse\" of scenarios 2-5 i.e. Aa-AA, aa-AA, etc.\n",
    "\n",
    "So I went for the other way around:\n",
    "Calculating the probability of having a child WITHOUT a dominant allele:\n",
    "\n",
    "aa-aa (100%)\n",
    "Aa-aa(50%)\n",
    "aa-Aa(50%)\n",
    "Aa-Aa(25%)\n",
    "\n",
    "'''\n",
    "    \n",
    "paa_aa = homo_rec * (n-1)/(p-1)\n",
    "    \n",
    "pAa_aa = 2 * homo_rec * (m / (p - 1)) * 0.5 #considers both PAa-aa and paa-Aa\n",
    "    \n",
    "pAa_Aa = hetero* ((m - 1) / (p - 1)) * 0.25\n",
    "\n",
    "probability=1-(paa_aa+pAa_aa+pAa_Aa)\n",
    "\n",
    "probability"
   ]
  }
 ],
 "metadata": {
  "kernelspec": {
   "display_name": "Python [Root]",
   "language": "python",
   "name": "Python [Root]"
  },
  "language_info": {
   "codemirror_mode": {
    "name": "ipython",
    "version": 3
   },
   "file_extension": ".py",
   "mimetype": "text/x-python",
   "name": "python",
   "nbconvert_exporter": "python",
   "pygments_lexer": "ipython3",
   "version": "3.5.2"
  }
 },
 "nbformat": 4,
 "nbformat_minor": 0
}
