{
 "cells": [
  {
   "cell_type": "markdown",
   "metadata": {},
   "source": [
    "# SUBS Finding a Motif in DNA"
   ]
  },
  {
   "cell_type": "markdown",
   "metadata": {},
   "source": [
    "**Given**: Two DNA strings s and t(each of length at most 1 kbp).\n",
    "\n",
    "**Return**: All locations of t as a substring of s.\n",
    "\n",
    "**Sample Dataset**\n",
    "\n",
    "GATATATGCATATACTT\n",
    "ATAT\n",
    "\n",
    "**Sample Output**\n",
    "\n",
    "2 4 10\n"
   ]
  },
  {
   "cell_type": "code",
   "execution_count": 36,
   "metadata": {
    "collapsed": false
   },
   "outputs": [],
   "source": [
    "#str1=\"GATATATGCATATACTT\"\n",
    "#str2=\"ATAT\"\n",
    "f= open(\"rosalind_subs.txt\")\n",
    "strlist=[]\n",
    "for line in f:\n",
    "    x=line.strip()\n",
    "    strlist.append(x)\n",
    "str1=strlist[0]\n",
    "str2=strlist[1]"
   ]
  },
  {
   "cell_type": "code",
   "execution_count": 37,
   "metadata": {
    "collapsed": false
   },
   "outputs": [
    {
     "name": "stdout",
     "output_type": "stream",
     "text": [
      "9 25 32 48 74 91 98 114 224 239 246 286 293 334 391 471 488 495 511 529 613 634 641 648 719 765 834 896 909 945 970\n"
     ]
    }
   ],
   "source": [
    "stop=len(str1)-(len(str2)-1) #we don't want index out of range\n",
    "\n",
    "indices=[]\n",
    "for i in range (stop):\n",
    "    if (str1[i:i+len(str2)])==str2:\n",
    "        indices.append(str(i+1))\n",
    "print(' '.join(indices))"
   ]
  },
  {
   "cell_type": "code",
   "execution_count": null,
   "metadata": {
    "collapsed": true
   },
   "outputs": [],
   "source": []
  }
 ],
 "metadata": {
  "anaconda-cloud": {},
  "kernelspec": {
   "display_name": "Python [Root]",
   "language": "python",
   "name": "Python [Root]"
  },
  "language_info": {
   "codemirror_mode": {
    "name": "ipython",
    "version": 3
   },
   "file_extension": ".py",
   "mimetype": "text/x-python",
   "name": "python",
   "nbconvert_exporter": "python",
   "pygments_lexer": "ipython3",
   "version": "3.5.2"
  }
 },
 "nbformat": 4,
 "nbformat_minor": 0
}
