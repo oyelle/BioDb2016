{
 "cells": [
  {
   "cell_type": "markdown",
   "metadata": {},
   "source": [
    "# IEV Calculating Expected Offspring"
   ]
  },
  {
   "cell_type": "markdown",
   "metadata": {},
   "source": [
    "**Given:**\n",
    "Six positive integers, each of which does not exceed 20,000. The integers correspond to the number of couples in a population possessing each genotype pairing for a given factor. In order, the six given integers represent the number of couples having the following genotypes:\n",
    "\n",
    "    AA-AA\n",
    "    \n",
    "    AA-Aa\n",
    "    \n",
    "    AA-aa\n",
    "    \n",
    "    Aa-Aa\n",
    "    \n",
    "    Aa-aa\n",
    "    \n",
    "    aa-aa\n",
    "\n",
    "**Return:**\n",
    "\n",
    "The expected number of offspring displaying the dominant phenotype in the next generation, under the assumption that every couple has exactly two offspring.\n",
    "\n",
    "**Sample Dataset**\n",
    "\n",
    "1 0 0 1 0 1\n",
    "\n",
    "**Sample Output**\n",
    "\n",
    "3.5\n"
   ]
  },
  {
   "cell_type": "code",
   "execution_count": 38,
   "metadata": {
    "collapsed": false
   },
   "outputs": [
    {
     "name": "stdout",
     "output_type": "stream",
     "text": [
      "149679.0\n"
     ]
    }
   ],
   "source": [
    "fin = open('rosalind_iev.txt')\n",
    "for line in fin:\n",
    "    data=line.strip()\n",
    "    \n",
    "datalist = [int(number) for number in data.split()] #list of split integers from string taken from text file\n",
    "\n",
    "probabilities=[1,1,1,0.75,0.5,0]\n",
    "\n",
    "answers=[2*a*b for a,b in zip(datalist,probabilities)]\n",
    "\n",
    "print(sum(answers))"
   ]
  }
 ],
 "metadata": {
  "anaconda-cloud": {},
  "kernelspec": {
   "display_name": "Python [Root]",
   "language": "python",
   "name": "Python [Root]"
  },
  "language_info": {
   "codemirror_mode": {
    "name": "ipython",
    "version": 3
   },
   "file_extension": ".py",
   "mimetype": "text/x-python",
   "name": "python",
   "nbconvert_exporter": "python",
   "pygments_lexer": "ipython3",
   "version": "3.5.2"
  }
 },
 "nbformat": 4,
 "nbformat_minor": 0
}
