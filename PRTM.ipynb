{
 "cells": [
  {
   "cell_type": "markdown",
   "metadata": {},
   "source": [
    "# PRTM Calculating Protein Mass"
   ]
  },
  {
   "cell_type": "markdown",
   "metadata": {},
   "source": [
    "**Given:** A protein string P of length at most 1000 aa.\n",
    "\n",
    "**Return:** The total weight of P given the monoisotopic mass table."
   ]
  },
  {
   "cell_type": "code",
   "execution_count": 19,
   "metadata": {
    "collapsed": false
   },
   "outputs": [],
   "source": [
    "f = open(\"monoisotopicmass.txt\") \n",
    "#make a dictionary of monoisotopic masses\n",
    "mim_dict = {}\n",
    "for line in f:\n",
    "    key,value=line.split() #takes current line and puts it into temp string\n",
    "    mim_dict[key]=float(value)"
   ]
  },
  {
   "cell_type": "code",
   "execution_count": 22,
   "metadata": {
    "collapsed": false
   },
   "outputs": [
    {
     "data": {
      "text/plain": [
       "103828.7258300004"
      ]
     },
     "execution_count": 22,
     "metadata": {},
     "output_type": "execute_result"
    }
   ],
   "source": [
    "input = open(\"rosalind_prtm2.txt\")\n",
    "for line in input:\n",
    "    aa = line.strip()\n",
    "\n",
    "#aa = \"SKADYEK\"\n",
    "total = 0\n",
    "for i in range(len(aa)):\n",
    "    total += mim_dict[aa[i]]\n",
    "total"
   ]
  }
 ],
 "metadata": {
  "anaconda-cloud": {},
  "kernelspec": {
   "display_name": "Python [Root]",
   "language": "python",
   "name": "Python [Root]"
  },
  "language_info": {
   "codemirror_mode": {
    "name": "ipython",
    "version": 3
   },
   "file_extension": ".py",
   "mimetype": "text/x-python",
   "name": "python",
   "nbconvert_exporter": "python",
   "pygments_lexer": "ipython3",
   "version": "3.5.2"
  }
 },
 "nbformat": 4,
 "nbformat_minor": 0
}
