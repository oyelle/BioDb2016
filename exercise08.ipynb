{
 "cells": [
  {
   "cell_type": "markdown",
   "metadata": {},
   "source": [
    "# Introduction\n",
    "\n",
    "This exercise makes use of the database you created in `Exercise02` and the BEL statement parsers you write with regular expressions in `Reading_searching_sending.ipynb`."
   ]
  },
  {
   "cell_type": "code",
   "execution_count": 4,
   "metadata": {
    "collapsed": false
   },
   "outputs": [
    {
     "data": {
      "text/plain": [
       "'Tue Oct  4 21:25:10 2016'"
      ]
     },
     "execution_count": 4,
     "metadata": {},
     "output_type": "execute_result"
    }
   ],
   "source": [
    "import pandas as pd\n",
    "import os, json, re, time\n",
    "time.asctime()"
   ]
  },
  {
   "cell_type": "code",
   "execution_count": 5,
   "metadata": {
    "collapsed": false
   },
   "outputs": [
    {
     "data": {
      "text/plain": [
       "'C:\\\\Users\\\\Nazneen\\\\Documents\\\\GitHub\\\\bug-free-eureka'"
      ]
     },
     "execution_count": 5,
     "metadata": {},
     "output_type": "execute_result"
    }
   ],
   "source": [
    "base = os.path.join(os.environ['BUG_FREE_EUREKA_BASE'])\n",
    "base"
   ]
  },
  {
   "cell_type": "markdown",
   "metadata": {},
   "source": [
    "# Task 1\n",
    "\n",
    "This exercise is about loading the HGNC data to create a dictionary from HGNC symbols to set of enzyme ID's.\n",
    "\n",
    "## 1.1 Load Data\n",
    "\n",
    "Load json data from `/data/exercise02/hgnc_complete_set.json`."
   ]
  },
  {
   "cell_type": "code",
   "execution_count": 6,
   "metadata": {
    "collapsed": true
   },
   "outputs": [],
   "source": [
    "data_path=os.path.join(base, 'data', 'exercise02', 'hgnc_complete_set.json')\n",
    "with open(data_path) as f:\n",
    "    hgnc_json=json.load(f)"
   ]
  },
  {
   "cell_type": "markdown",
   "metadata": {},
   "source": [
    "## 1.2 Reorganize Data into `pd.DataFrame`\n",
    "\n",
    "Identify the relevant subdictionaries in your `dictionary -> response -> docs`. Load them to a data frame, \n",
    "then create a new data frame with just the HGNC symbol and Enzyme ID"
   ]
  },
  {
   "cell_type": "code",
   "execution_count": 7,
   "metadata": {
    "collapsed": false
   },
   "outputs": [
    {
     "data": {
      "text/plain": [
       "['_version_',\n",
       " 'alias_name',\n",
       " 'alias_symbol',\n",
       " 'bioparadigms_slc',\n",
       " 'ccds_id',\n",
       " 'cd',\n",
       " 'cosmic',\n",
       " 'date_approved_reserved',\n",
       " 'date_modified',\n",
       " 'date_name_changed',\n",
       " 'date_symbol_changed',\n",
       " 'ena',\n",
       " 'ensembl_gene_id',\n",
       " 'entrez_id',\n",
       " 'enzyme_id',\n",
       " 'gene_family',\n",
       " 'gene_family_id',\n",
       " 'hgnc_id',\n",
       " 'homeodb',\n",
       " 'horde_id',\n",
       " 'imgt',\n",
       " 'intermediate_filament_db',\n",
       " 'iuphar',\n",
       " 'kznf_gene_catalog',\n",
       " 'lncrnadb',\n",
       " 'location',\n",
       " 'location_sortable',\n",
       " 'locus_group',\n",
       " 'locus_type',\n",
       " 'lsdb',\n",
       " 'mamit-trnadb',\n",
       " 'merops',\n",
       " 'mgd_id',\n",
       " 'mirbase',\n",
       " 'name',\n",
       " 'omim_id',\n",
       " 'orphanet',\n",
       " 'prev_name',\n",
       " 'prev_symbol',\n",
       " 'pseudogene.org',\n",
       " 'pubmed_id',\n",
       " 'refseq_accession',\n",
       " 'rgd_id',\n",
       " 'snornabase',\n",
       " 'status',\n",
       " 'symbol',\n",
       " 'ucsc_id',\n",
       " 'uniprot_ids',\n",
       " 'uuid',\n",
       " 'vega_id']"
      ]
     },
     "execution_count": 7,
     "metadata": {},
     "output_type": "execute_result"
    }
   ],
   "source": [
    "docs=hgnc_json['response']['docs']\n",
    "\n",
    "df_hgnc= pd.DataFrame(docs)\n",
    "df_hgnc.head(1)\n",
    "list(df_hgnc.columns) #check the columns involved.. but remember we only want 2"
   ]
  },
  {
   "cell_type": "code",
   "execution_count": 8,
   "metadata": {
    "collapsed": false
   },
   "outputs": [
    {
     "data": {
      "text/html": [
       "<div>\n",
       "<table border=\"1\" class=\"dataframe\">\n",
       "  <thead>\n",
       "    <tr style=\"text-align: right;\">\n",
       "      <th></th>\n",
       "      <th>symbol</th>\n",
       "      <th>enzyme_id</th>\n",
       "    </tr>\n",
       "  </thead>\n",
       "  <tbody>\n",
       "    <tr>\n",
       "      <th>0</th>\n",
       "      <td>A1BG</td>\n",
       "      <td>NaN</td>\n",
       "    </tr>\n",
       "    <tr>\n",
       "      <th>1</th>\n",
       "      <td>A1BG-AS1</td>\n",
       "      <td>NaN</td>\n",
       "    </tr>\n",
       "    <tr>\n",
       "      <th>2</th>\n",
       "      <td>A1CF</td>\n",
       "      <td>NaN</td>\n",
       "    </tr>\n",
       "    <tr>\n",
       "      <th>3</th>\n",
       "      <td>A2M</td>\n",
       "      <td>NaN</td>\n",
       "    </tr>\n",
       "    <tr>\n",
       "      <th>4</th>\n",
       "      <td>A2M-AS1</td>\n",
       "      <td>NaN</td>\n",
       "    </tr>\n",
       "    <tr>\n",
       "      <th>5</th>\n",
       "      <td>A2ML1</td>\n",
       "      <td>NaN</td>\n",
       "    </tr>\n",
       "    <tr>\n",
       "      <th>6</th>\n",
       "      <td>A2ML1-AS1</td>\n",
       "      <td>NaN</td>\n",
       "    </tr>\n",
       "    <tr>\n",
       "      <th>7</th>\n",
       "      <td>A2ML1-AS2</td>\n",
       "      <td>NaN</td>\n",
       "    </tr>\n",
       "    <tr>\n",
       "      <th>8</th>\n",
       "      <td>A2MP1</td>\n",
       "      <td>NaN</td>\n",
       "    </tr>\n",
       "    <tr>\n",
       "      <th>9</th>\n",
       "      <td>A3GALT2</td>\n",
       "      <td>NaN</td>\n",
       "    </tr>\n",
       "    <tr>\n",
       "      <th>10</th>\n",
       "      <td>A4GALT</td>\n",
       "      <td>[2.4.1.228]</td>\n",
       "    </tr>\n",
       "    <tr>\n",
       "      <th>11</th>\n",
       "      <td>A4GNT</td>\n",
       "      <td>NaN</td>\n",
       "    </tr>\n",
       "    <tr>\n",
       "      <th>12</th>\n",
       "      <td>A12M1</td>\n",
       "      <td>NaN</td>\n",
       "    </tr>\n",
       "    <tr>\n",
       "      <th>13</th>\n",
       "      <td>A12M2</td>\n",
       "      <td>NaN</td>\n",
       "    </tr>\n",
       "    <tr>\n",
       "      <th>14</th>\n",
       "      <td>A12M3</td>\n",
       "      <td>NaN</td>\n",
       "    </tr>\n",
       "    <tr>\n",
       "      <th>15</th>\n",
       "      <td>A12M4</td>\n",
       "      <td>NaN</td>\n",
       "    </tr>\n",
       "    <tr>\n",
       "      <th>16</th>\n",
       "      <td>AAAS</td>\n",
       "      <td>NaN</td>\n",
       "    </tr>\n",
       "    <tr>\n",
       "      <th>17</th>\n",
       "      <td>AABT</td>\n",
       "      <td>NaN</td>\n",
       "    </tr>\n",
       "    <tr>\n",
       "      <th>18</th>\n",
       "      <td>AACS</td>\n",
       "      <td>[6.2.1.16]</td>\n",
       "    </tr>\n",
       "    <tr>\n",
       "      <th>19</th>\n",
       "      <td>AACSP1</td>\n",
       "      <td>NaN</td>\n",
       "    </tr>\n",
       "    <tr>\n",
       "      <th>20</th>\n",
       "      <td>AADAC</td>\n",
       "      <td>[3.1.1.3]</td>\n",
       "    </tr>\n",
       "    <tr>\n",
       "      <th>21</th>\n",
       "      <td>AADACL2</td>\n",
       "      <td>NaN</td>\n",
       "    </tr>\n",
       "    <tr>\n",
       "      <th>22</th>\n",
       "      <td>AADACL2-AS1</td>\n",
       "      <td>NaN</td>\n",
       "    </tr>\n",
       "    <tr>\n",
       "      <th>23</th>\n",
       "      <td>AADACL3</td>\n",
       "      <td>NaN</td>\n",
       "    </tr>\n",
       "    <tr>\n",
       "      <th>24</th>\n",
       "      <td>AADACL4</td>\n",
       "      <td>NaN</td>\n",
       "    </tr>\n",
       "    <tr>\n",
       "      <th>25</th>\n",
       "      <td>AADACP1</td>\n",
       "      <td>NaN</td>\n",
       "    </tr>\n",
       "    <tr>\n",
       "      <th>26</th>\n",
       "      <td>AADAT</td>\n",
       "      <td>[2.6.1.39, 2.6.1.7]</td>\n",
       "    </tr>\n",
       "    <tr>\n",
       "      <th>27</th>\n",
       "      <td>AAED1</td>\n",
       "      <td>NaN</td>\n",
       "    </tr>\n",
       "    <tr>\n",
       "      <th>28</th>\n",
       "      <td>AAGAB</td>\n",
       "      <td>NaN</td>\n",
       "    </tr>\n",
       "    <tr>\n",
       "      <th>29</th>\n",
       "      <td>AAK1</td>\n",
       "      <td>NaN</td>\n",
       "    </tr>\n",
       "    <tr>\n",
       "      <th>30</th>\n",
       "      <td>AAMDC</td>\n",
       "      <td>NaN</td>\n",
       "    </tr>\n",
       "    <tr>\n",
       "      <th>31</th>\n",
       "      <td>AAMP</td>\n",
       "      <td>NaN</td>\n",
       "    </tr>\n",
       "    <tr>\n",
       "      <th>32</th>\n",
       "      <td>AANAT</td>\n",
       "      <td>[2.3.1.87]</td>\n",
       "    </tr>\n",
       "    <tr>\n",
       "      <th>33</th>\n",
       "      <td>AAR2</td>\n",
       "      <td>NaN</td>\n",
       "    </tr>\n",
       "    <tr>\n",
       "      <th>34</th>\n",
       "      <td>AARD</td>\n",
       "      <td>NaN</td>\n",
       "    </tr>\n",
       "    <tr>\n",
       "      <th>35</th>\n",
       "      <td>AARS</td>\n",
       "      <td>[6.1.1.7]</td>\n",
       "    </tr>\n",
       "    <tr>\n",
       "      <th>36</th>\n",
       "      <td>AARS2</td>\n",
       "      <td>[6.1.1.7]</td>\n",
       "    </tr>\n",
       "    <tr>\n",
       "      <th>37</th>\n",
       "      <td>AARSD1</td>\n",
       "      <td>NaN</td>\n",
       "    </tr>\n",
       "    <tr>\n",
       "      <th>38</th>\n",
       "      <td>AARSP1</td>\n",
       "      <td>NaN</td>\n",
       "    </tr>\n",
       "    <tr>\n",
       "      <th>39</th>\n",
       "      <td>AASDH</td>\n",
       "      <td>[1.2.1.31]</td>\n",
       "    </tr>\n",
       "    <tr>\n",
       "      <th>40</th>\n",
       "      <td>AASDHPPT</td>\n",
       "      <td>[2.7.8.7]</td>\n",
       "    </tr>\n",
       "    <tr>\n",
       "      <th>41</th>\n",
       "      <td>AASS</td>\n",
       "      <td>NaN</td>\n",
       "    </tr>\n",
       "    <tr>\n",
       "      <th>42</th>\n",
       "      <td>AATBC</td>\n",
       "      <td>NaN</td>\n",
       "    </tr>\n",
       "    <tr>\n",
       "      <th>43</th>\n",
       "      <td>AATF</td>\n",
       "      <td>NaN</td>\n",
       "    </tr>\n",
       "    <tr>\n",
       "      <th>44</th>\n",
       "      <td>AATK</td>\n",
       "      <td>NaN</td>\n",
       "    </tr>\n",
       "    <tr>\n",
       "      <th>45</th>\n",
       "      <td>AATK-AS1</td>\n",
       "      <td>NaN</td>\n",
       "    </tr>\n",
       "    <tr>\n",
       "      <th>46</th>\n",
       "      <td>AAVS1</td>\n",
       "      <td>NaN</td>\n",
       "    </tr>\n",
       "    <tr>\n",
       "      <th>47</th>\n",
       "      <td>ABALON</td>\n",
       "      <td>NaN</td>\n",
       "    </tr>\n",
       "    <tr>\n",
       "      <th>48</th>\n",
       "      <td>ABAT</td>\n",
       "      <td>[2.6.1.19]</td>\n",
       "    </tr>\n",
       "    <tr>\n",
       "      <th>49</th>\n",
       "      <td>ABCA1</td>\n",
       "      <td>NaN</td>\n",
       "    </tr>\n",
       "  </tbody>\n",
       "</table>\n",
       "</div>"
      ],
      "text/plain": [
       "         symbol            enzyme_id\n",
       "0          A1BG                  NaN\n",
       "1      A1BG-AS1                  NaN\n",
       "2          A1CF                  NaN\n",
       "3           A2M                  NaN\n",
       "4       A2M-AS1                  NaN\n",
       "5         A2ML1                  NaN\n",
       "6     A2ML1-AS1                  NaN\n",
       "7     A2ML1-AS2                  NaN\n",
       "8         A2MP1                  NaN\n",
       "9       A3GALT2                  NaN\n",
       "10       A4GALT          [2.4.1.228]\n",
       "11        A4GNT                  NaN\n",
       "12        A12M1                  NaN\n",
       "13        A12M2                  NaN\n",
       "14        A12M3                  NaN\n",
       "15        A12M4                  NaN\n",
       "16         AAAS                  NaN\n",
       "17         AABT                  NaN\n",
       "18         AACS           [6.2.1.16]\n",
       "19       AACSP1                  NaN\n",
       "20        AADAC            [3.1.1.3]\n",
       "21      AADACL2                  NaN\n",
       "22  AADACL2-AS1                  NaN\n",
       "23      AADACL3                  NaN\n",
       "24      AADACL4                  NaN\n",
       "25      AADACP1                  NaN\n",
       "26        AADAT  [2.6.1.39, 2.6.1.7]\n",
       "27        AAED1                  NaN\n",
       "28        AAGAB                  NaN\n",
       "29         AAK1                  NaN\n",
       "30        AAMDC                  NaN\n",
       "31         AAMP                  NaN\n",
       "32        AANAT           [2.3.1.87]\n",
       "33         AAR2                  NaN\n",
       "34         AARD                  NaN\n",
       "35         AARS            [6.1.1.7]\n",
       "36        AARS2            [6.1.1.7]\n",
       "37       AARSD1                  NaN\n",
       "38       AARSP1                  NaN\n",
       "39        AASDH           [1.2.1.31]\n",
       "40     AASDHPPT            [2.7.8.7]\n",
       "41         AASS                  NaN\n",
       "42        AATBC                  NaN\n",
       "43         AATF                  NaN\n",
       "44         AATK                  NaN\n",
       "45     AATK-AS1                  NaN\n",
       "46        AAVS1                  NaN\n",
       "47       ABALON                  NaN\n",
       "48         ABAT           [2.6.1.19]\n",
       "49        ABCA1                  NaN"
      ]
     },
     "execution_count": 8,
     "metadata": {},
     "output_type": "execute_result"
    }
   ],
   "source": [
    "df_hgnc[['symbol','enzyme_id']].head(50) #check out those columns\n",
    "#not all proteins are enzymes so not all have enzyme_ids"
   ]
  },
  {
   "cell_type": "markdown",
   "metadata": {},
   "source": [
    "## 1.3 Build dictionary for lookup\n",
    "\n",
    "Iterate over this dataframe to build a dictionary that is `{hgnc symbol: set of enzyme id's}`. Call this dictionary `symbol2ec`"
   ]
  },
  {
   "cell_type": "code",
   "execution_count": 9,
   "metadata": {
    "collapsed": true
   },
   "outputs": [],
   "source": [
    "symbol2ec={}\n",
    "\n",
    "df_hgnc_sliced=df_hgnc[['symbol','enzyme_id']]"
   ]
  },
  {
   "cell_type": "code",
   "execution_count": 10,
   "metadata": {
    "collapsed": true
   },
   "outputs": [],
   "source": [
    "for idx, symbol, enzyme_ids in df_hgnc_sliced.itertuples():\n",
    "    if isinstance(enzyme_ids, list): #if enzyme_ids is a list\n",
    "        symbol2ec[symbol]= enzyme_ids #also possible:cast to set to look up set membership quickly later\n",
    "    else:\n",
    "        symbol2ec[symbol]= []"
   ]
  },
  {
   "cell_type": "code",
   "execution_count": 11,
   "metadata": {
    "collapsed": false
   },
   "outputs": [
    {
     "data": {
      "text/plain": [
       "True"
      ]
     },
     "execution_count": 11,
     "metadata": {},
     "output_type": "execute_result"
    }
   ],
   "source": [
    "'AKT1' in symbol2ec #same as 'AKT1 in symbol2ec.keys()'"
   ]
  },
  {
   "cell_type": "markdown",
   "metadata": {},
   "source": [
    "# Task 2\n",
    "\n",
    "This subexercise is about validating protein and kinase activity statements in BEL. Refer to last Thursday's work in `Reading_searching_sending.ipynb`."
   ]
  },
  {
   "cell_type": "markdown",
   "metadata": {},
   "source": [
    "## 2.1 Valid HGNC\n",
    "\n",
    "Write a function, `valid_hgnc(hgnc_symbol, symbol2ec_instance)` that takes a name and the dictionary from Task 1.3 and returns whether this is a valid name"
   ]
  },
  {
   "cell_type": "code",
   "execution_count": 12,
   "metadata": {
    "collapsed": false
   },
   "outputs": [],
   "source": [
    "def valid_hgnc(hgnc_symbol, symbol2ec_instance):\n",
    "    return hgnc_symbol in symbol2ec_instance\n",
    "        \n",
    "\n",
    "assert valid_hgnc('AKT1', symbol2ec)\n",
    "assert not valid_hgnc('blah blah', symbol2ec)\n",
    "\n",
    "#valid_hgnc('hello', symbol2ec)"
   ]
  },
  {
   "cell_type": "markdown",
   "metadata": {},
   "source": [
    "## 2.2 Valid Kinase Activity\n",
    "\n",
    "Write a function, `valid_kinase(hgnc_symbol, symbol2ec_instance)` that takes a name and the dictionary from Task 1.3 and returns whether this protein has kinase activity. Hint: an enzyme code reference can be found [here](http://brenda-enzymes.org/ecexplorer.php?browser=1&f[nodes]=132&f[action]=open&f[change]=153)"
   ]
  },
  {
   "cell_type": "code",
   "execution_count": 13,
   "metadata": {
    "collapsed": false
   },
   "outputs": [],
   "source": [
    "def valid_kinase(hgnc_symbol, symbol2ec_instance):\n",
    "    if not valid_hgnc(hgnc_symbol, symbol2ec_instance):\n",
    "        return False\n",
    "    \n",
    "    for ec_id in symbol2ec_instance[hgnc_symbol]:\n",
    "        if ec_id.startswith('2.7.'):\n",
    "            return True\n",
    "\n",
    "    return False\n",
    "\n",
    "assert valid_kinase('AKT1', symbol2ec)\n",
    "assert not valid_kinase('HIST1H4H', symbol2ec) #had a NaN value but we made it have an empty list"
   ]
  },
  {
   "cell_type": "code",
   "execution_count": 14,
   "metadata": {
    "collapsed": false
   },
   "outputs": [
    {
     "data": {
      "text/plain": [
       "('p', 'HGNC', 'BCL2', '-|', 'p', 'HGNC', 'CYCS')"
      ]
     },
     "execution_count": 14,
     "metadata": {},
     "output_type": "execute_result"
    }
   ],
   "source": [
    "pattern = \"^([a-z])\\(([A-Z]+):([a-zA-Z0-9]+)\\)\\s(-\\||->)\\s([a-z])\\(([A-Z]+):([a-zA-Z0-9]+)\\)$\"\n",
    "\n",
    "\n",
    "text=\"p(HGNC:BCL2) -| p(HGNC:CYCS)\"\n",
    "p=re.compile(pattern)\n",
    "p.match(text).groups()"
   ]
  },
  {
   "cell_type": "code",
   "execution_count": 15,
   "metadata": {
    "collapsed": false
   },
   "outputs": [
    {
     "name": "stdout",
     "output_type": "stream",
     "text": [
      "{'name': 'ABC'}\n"
     ]
    },
    {
     "data": {
      "text/plain": [
       "{'name': 'ABC'}"
      ]
     },
     "execution_count": 15,
     "metadata": {},
     "output_type": "execute_result"
    }
   ],
   "source": [
    "match_protein = re.compile('p\\(HGNC:(?P<name>\\w+)\\)')\n",
    "print(match_protein.match('p(HGNC:ABC)').groupdict())\n",
    "\n",
    "match_kin = re.compile('kin\\(p\\(HGNC:(?P<name>\\w+)\\)\\)')\n",
    "match_kin.match('kin(p(HGNC:ABC))').groupdict()"
   ]
  },
  {
   "cell_type": "markdown",
   "metadata": {},
   "source": [
    "## 2.3 Putting it all together\n",
    "\n",
    "Write a function, `validate_bel_term(term, symbol2ec_instance)` that parses a BEL term about either a protein, or the kinase activity of a protein and validates it.\n",
    "\n",
    "```python\n",
    "def validate_bel_term(term, symbol2ec_instance):\n",
    "    pass\n",
    "```\n",
    "\n",
    "### Examples\n",
    "\n",
    "```python\n",
    ">>> # check that the proteins have valid HGNC codes\n",
    ">>> validate_bel_term('p(HGNC:APP)', symbol2ec)\n",
    "True\n",
    ">>> validate_bel_term('p(HGNC:ABCDEF)', symbol2ec)\n",
    "False\n",
    ">>> # check that kinase activity annotations are only on proteins that are\n",
    ">>> # actually protein kinases (hint: check EC annotation)\n",
    ">>> validate_bel_term('kin(p(HGNC:APP))', symbol2ec)\n",
    "False\n",
    ">>> validate_bel_term('kin(p(HGNC:AKT1))', symbol2ec)\n",
    "True\n",
    "```"
   ]
  },
  {
   "cell_type": "code",
   "execution_count": 25,
   "metadata": {
    "collapsed": false
   },
   "outputs": [],
   "source": [
    "def validate_bel_term(term, symbol2ec_instance):\n",
    "    #get name from BEL term\n",
    "    ##if only protein:\n",
    "    if term.startswith('p'):\n",
    "        match_protein = re.compile('p\\(HGNC:(?P<name>\\w+)\\)')\n",
    "        my_dict=match_protein.match(term).groupdict()\n",
    "        \n",
    "        name=my_dict['name']\n",
    "        ###check if name is a valid hgnc name              \n",
    "        return valid_hgnc(name,symbol2ec_instance)\n",
    "    \n",
    "    ##else if kinase, do:\n",
    "    elif term.startswith('kin'):\n",
    "        match_kin = re.compile('kin\\(p\\(HGNC:(?P<name>\\w+)\\)\\)')\n",
    "        my_dict=match_kin.match(term).groupdict()\n",
    "        name=my_dict['name']\n",
    "    \n",
    "    ###for those with valid HGNC codes, check if valid kinase\n",
    "        if valid_hgnc(name,symbol2ec_instance):\n",
    "            return valid_kinase(name, symbol2ec_instance)\n",
    "    \n",
    "    ###if invalid HGNC code\n",
    "        return False"
   ]
  },
  {
   "cell_type": "code",
   "execution_count": 24,
   "metadata": {
    "collapsed": false
   },
   "outputs": [],
   "source": [
    "assert validate_bel_term('p(HGNC:APP)', symbol2ec)\n",
    "assert not validate_bel_term('p(HGNC:ABCDEF)', symbol2ec)\n",
    "assert not validate_bel_term('kin(p(HGNC:APP))', symbol2ec)\n",
    "assert validate_bel_term('kin(p(HGNC:AKT1))', symbol2ec)"
   ]
  },
  {
   "cell_type": "markdown",
   "metadata": {},
   "source": [
    "# Task 3\n",
    "\n",
    "This task is about manual curation of text. You will be guided through translating the following text into BEL statements as strings within a python list.\n",
    "\n",
    "## Document Definitions\n",
    "\n",
    "Recall citations are written with source, title, then identifier as follows:\n",
    "\n",
    "```\n",
    "SET Citation = {\"PubMed\", \"Nat Cell Biol 2007 Mar 9(3) 316-23\", \"17277771\"}\n",
    "```\n",
    "\n",
    "Use these annotations and these namespaces:\n",
    "\n",
    "```\n",
    "DEFINE NAMESPACE HGNC AS URL \"http://resource.belframework.org/belframework/20131211/namespace/hgnc-human-genes.belns\"\n",
    "\n",
    "DEFINE ANNOTATION CellLocation as LIST {\"cell nucleus\", \"cytoplasm\", \"endoplasmic reticulum\"}\n",
    "```\n",
    "\n",
    "\n",
    "## Source Text\n",
    "\n",
    "> The following statements are from the document \"BEL Exercise\" in edition 00001 of the PyBEL Journal.\n",
    "> The kinase activity of A causes the increased abundance of AKT serine/threonine kinase 1 and AKT serine/threonine kinase 2 in the cytoplasm, \n",
    "> but only the increased expression of AKT serine/threonine kinase 1 in the endoplasmic reticulum. \n",
    "> Additionally, the abundance of AKT serine/threonine kinase 1 and AKT serine/threonine kinase 2 were found to be postively correlated in the cell nuclei.\n",
    "> AKT serine/threonine kinase 2 increases GSK3 Beta in all of the nuclei, cyoplasm, and ER."
   ]
  },
  {
   "cell_type": "code",
   "execution_count": null,
   "metadata": {
    "collapsed": true
   },
   "outputs": [],
   "source": [
    "definition_statements = [\n",
    "    'SET DOCUMENT name = \"BEL Exercise\"'\n",
    "    'DEFINE NAMESPACE HGNC AS URL \"http://resource.belframework.org/belframework/20131211/namespace/hgnc-human-genes.belns\"',\n",
    "    'DEFINE ANNOTATION CellLocation AS LIST {\"cell nucleus\", \"cytoplasm\", \"endoplasmic reticulum\"}',\n",
    "]"
   ]
  },
  {
   "cell_type": "code",
   "execution_count": null,
   "metadata": {
    "collapsed": true
   },
   "outputs": [],
   "source": [
    "# hint: there should be 11 statements from this text\n",
    "your_statements = [\n",
    "    '',\n",
    "    '',\n",
    "    '',\n",
    "    '',\n",
    "    '',\n",
    "    '',\n",
    "    '',\n",
    "    '',\n",
    "    '',\n",
    "    '',\n",
    "    ''\n",
    "]"
   ]
  },
  {
   "cell_type": "code",
   "execution_count": null,
   "metadata": {
    "collapsed": true
   },
   "outputs": [],
   "source": [
    "statements = definition_statements + your_statements"
   ]
  },
  {
   "cell_type": "markdown",
   "metadata": {},
   "source": [
    "# Task 4\n",
    "\n",
    "This task is again about regular expressions. Return to `Reading_searching_sending.ipynb` and find your regular expressions that parse the subject, predicate, and object from a statement like `p(HGNC:AKT1) pos p(HGNC:AKT2)`\n",
    "\n",
    "## 4.1 Validating Statements\n",
    "\n",
    "Write a function `validate_bel_statement(statement, symbol2ec)` that takes a subject, predicate, object BEL statement as a string and determines if it its subject and objects are valid."
   ]
  },
  {
   "cell_type": "code",
   "execution_count": null,
   "metadata": {
    "collapsed": true
   },
   "outputs": [],
   "source": [
    "def validate_bel_statement(statement, symbol2ec):\n",
    "    pass"
   ]
  },
  {
   "cell_type": "markdown",
   "metadata": {},
   "source": [
    "## 4.2 Validating Your Statements\n",
    "\n",
    "Run this cell to validate the BEL statements you've written."
   ]
  },
  {
   "cell_type": "code",
   "execution_count": null,
   "metadata": {
    "collapsed": false
   },
   "outputs": [],
   "source": [
    "for statement in your_statements:\n",
    "    valid = validate_bel_statement(statement, symbol2ec)\n",
    "    print('{} is {}valid'.format(statement, '' if valid else 'in'))"
   ]
  },
  {
   "cell_type": "markdown",
   "metadata": {},
   "source": [
    "## 4.3 Visualization\n",
    "\n",
    "Use `pybel` to visualize the network."
   ]
  },
  {
   "cell_type": "code",
   "execution_count": null,
   "metadata": {
    "collapsed": false
   },
   "outputs": [],
   "source": [
    "try:\n",
    "    import pybel\n",
    "    import networkx\n",
    "    \n",
    "    g = pybel.from_bel(statements)\n",
    "    nx.draw_spring(g, with_labels=True)\n",
    "except:\n",
    "    print('PyBEL not installed')"
   ]
  }
 ],
 "metadata": {
  "anaconda-cloud": {},
  "kernelspec": {
   "display_name": "Python [Root]",
   "language": "python",
   "name": "Python [Root]"
  },
  "language_info": {
   "codemirror_mode": {
    "name": "ipython",
    "version": 3
   },
   "file_extension": ".py",
   "mimetype": "text/x-python",
   "name": "python",
   "nbconvert_exporter": "python",
   "pygments_lexer": "ipython3",
   "version": "3.5.2"
  }
 },
 "nbformat": 4,
 "nbformat_minor": 1
}
